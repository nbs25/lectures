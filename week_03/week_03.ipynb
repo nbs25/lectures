{
 "cells": [
  {
   "cell_type": "markdown",
   "metadata": {},
   "source": [
    "# Computational methods in Physics\n",
    "## Week 3\n",
    "#### Prof. Michael Wood-Vasey\n",
    "##### [based on materials from Prof. Brian D'Urso]\n",
    "##### University of Pittsburgh, Department of Physics and Astronomy"
   ]
  },
  {
   "cell_type": "markdown",
   "metadata": {},
   "source": [
    "## Random Numbers"
   ]
  },
  {
   "cell_type": "markdown",
   "metadata": {},
   "source": [
    "### Deterministic Randomness\n",
    "Some problems are physically unpredictable. Examples:\n",
    "  * thermal motion\n",
    "  * games of chance\n",
    "  * radioactive decay\n",
    "\n",
    "How do we deal with randomness numerically?\n",
    "  * Computers are deterministic; no chance involved.\n",
    "  * Always same output for same input; unless hardware error.\n",
    "  * Generate pseudo-random numbers.\n",
    "  \n",
    "Monte Carlo calculations: simulate random events.\n",
    "  * Solve equations statistically\n",
    "  * Solve intractable problems"
   ]
  },
  {
   "cell_type": "markdown",
   "metadata": {},
   "source": [
    "### Drawing Random Numbers\n",
    "  * Python has a random module for drawing random numbers\n",
    "  * `random.random()` draws random numbers in `[0, 1)` :  "
   ]
  },
  {
   "cell_type": "code",
   "execution_count": 35,
   "metadata": {
    "collapsed": true
   },
   "outputs": [],
   "source": [
    "import random "
   ]
  },
  {
   "cell_type": "code",
   "execution_count": 36,
   "metadata": {
    "collapsed": false
   },
   "outputs": [
    {
     "data": {
      "text/plain": [
       "['BPF',\n",
       " 'LOG4',\n",
       " 'NV_MAGICCONST',\n",
       " 'RECIP_BPF',\n",
       " 'Random',\n",
       " 'SG_MAGICCONST',\n",
       " 'SystemRandom',\n",
       " 'TWOPI',\n",
       " '_BuiltinMethodType',\n",
       " '_MethodType',\n",
       " '_Sequence',\n",
       " '_Set',\n",
       " '__all__',\n",
       " '__builtins__',\n",
       " '__cached__',\n",
       " '__doc__',\n",
       " '__file__',\n",
       " '__loader__',\n",
       " '__name__',\n",
       " '__package__',\n",
       " '__spec__',\n",
       " '_acos',\n",
       " '_ceil',\n",
       " '_cos',\n",
       " '_e',\n",
       " '_exp',\n",
       " '_inst',\n",
       " '_log',\n",
       " '_pi',\n",
       " '_random',\n",
       " '_sha512',\n",
       " '_sin',\n",
       " '_sqrt',\n",
       " '_test',\n",
       " '_test_generator',\n",
       " '_urandom',\n",
       " '_warn',\n",
       " 'betavariate',\n",
       " 'choice',\n",
       " 'expovariate',\n",
       " 'gammavariate',\n",
       " 'gauss',\n",
       " 'getrandbits',\n",
       " 'getstate',\n",
       " 'lognormvariate',\n",
       " 'normalvariate',\n",
       " 'paretovariate',\n",
       " 'randint',\n",
       " 'random',\n",
       " 'randrange',\n",
       " 'sample',\n",
       " 'seed',\n",
       " 'setstate',\n",
       " 'shuffle',\n",
       " 'triangular',\n",
       " 'uniform',\n",
       " 'vonmisesvariate',\n",
       " 'weibullvariate']"
      ]
     },
     "execution_count": 36,
     "metadata": {},
     "output_type": "execute_result"
    }
   ],
   "source": [
    "dir(random)"
   ]
  },
  {
   "cell_type": "code",
   "execution_count": 41,
   "metadata": {
    "collapsed": false
   },
   "outputs": [
    {
     "data": {
      "text/plain": [
       "0.37314316199120035"
      ]
     },
     "execution_count": 41,
     "metadata": {},
     "output_type": "execute_result"
    }
   ],
   "source": [
    "random.random()"
   ]
  },
  {
   "cell_type": "code",
   "execution_count": 42,
   "metadata": {
    "collapsed": false
   },
   "outputs": [
    {
     "data": {
      "text/plain": [
       "0.7225804702953376"
      ]
     },
     "execution_count": 42,
     "metadata": {},
     "output_type": "execute_result"
    }
   ],
   "source": [
    "random.random()  "
   ]
  },
  {
   "cell_type": "code",
   "execution_count": 43,
   "metadata": {
    "collapsed": false
   },
   "outputs": [
    {
     "data": {
      "text/plain": [
       "0.9863691538857358"
      ]
     },
     "execution_count": 43,
     "metadata": {},
     "output_type": "execute_result"
    }
   ],
   "source": [
    "random.random()"
   ]
  },
  {
   "cell_type": "code",
   "execution_count": 44,
   "metadata": {
    "collapsed": false
   },
   "outputs": [
    {
     "data": {
      "text/plain": [
       "[0.451502960567976,\n",
       " 0.9339710674906362,\n",
       " 0.924059436730153,\n",
       " 0.04034346018637547,\n",
       " 0.4917288063196501,\n",
       " 0.5928789817332918,\n",
       " 0.09606744546454482,\n",
       " 0.5564895172881258,\n",
       " 0.9714023594754505,\n",
       " 0.732155107408455]"
      ]
     },
     "execution_count": 44,
     "metadata": {},
     "output_type": "execute_result"
    }
   ],
   "source": [
    "[random.random() for i in range(10)]"
   ]
  },
  {
   "cell_type": "markdown",
   "metadata": {},
   "source": [
    "  * The sequence of random numbers is produced by a deterministic algorithm - the numbers just appear random."
   ]
  },
  {
   "cell_type": "markdown",
   "metadata": {},
   "source": [
    "### Distributions of Random Numbers\n",
    "  * `random.random()` generates random numbers that are uniformly\n",
    "distributed in the interval $[0, 1)$.\n",
    "  * `random.uniform(a, b)` generates random numbers uniformly\n",
    "distributed in $[a, b)$.\n",
    "  * \"Uniformly distributed\" means that if we generate a large set\n",
    "of numbers, no part of $[a, b)$ gets more numbers than others.\n",
    "  * See `random_distribution` demo."
   ]
  },
  {
   "cell_type": "markdown",
   "metadata": {},
   "source": [
    "### Vectorized Drawing of Random Numbers\n",
    "  * `random.random()` generates one number at a time"
   ]
  },
  {
   "cell_type": "code",
   "execution_count": 45,
   "metadata": {
    "collapsed": false
   },
   "outputs": [
    {
     "data": {
      "text/plain": [
       "0.513089412173477"
      ]
     },
     "execution_count": 45,
     "metadata": {},
     "output_type": "execute_result"
    }
   ],
   "source": [
    "random.random() # one number  "
   ]
  },
  {
   "cell_type": "code",
   "execution_count": 47,
   "metadata": {
    "collapsed": false
   },
   "outputs": [
    {
     "data": {
      "text/plain": [
       "-46.075876850491014"
      ]
     },
     "execution_count": 47,
     "metadata": {},
     "output_type": "execute_result"
    }
   ],
   "source": [
    "random.uniform(-100, 10) # one number    "
   ]
  },
  {
   "cell_type": "markdown",
   "metadata": {},
   "source": [
    "  * `numpy` has a random module that efficiently generates a (large)\n",
    "number of random numbers at a time:  "
   ]
  },
  {
   "cell_type": "code",
   "execution_count": 54,
   "metadata": {
    "collapsed": false
   },
   "outputs": [],
   "source": [
    "import numpy as np\n",
    "r = np.random.random(size=1000) # array\n",
    "r = np.random.uniform(-1, 10, size=1000) # array"
   ]
  },
  {
   "cell_type": "code",
   "execution_count": 50,
   "metadata": {
    "collapsed": true
   },
   "outputs": [],
   "source": [
    "%matplotlib inline\n",
    "import matplotlib.pyplot as plt"
   ]
  },
  {
   "cell_type": "code",
   "execution_count": 57,
   "metadata": {
    "collapsed": false
   },
   "outputs": [
    {
     "data": {
      "text/plain": [
       "(array([  98.,   85.,  110.,   97.,  124.,   88.,  104.,  101.,  100.,   93.]),\n",
       " array([-0.99302548,  0.10434511,  1.2017157 ,  2.29908629,  3.39645688,\n",
       "         4.49382747,  5.59119807,  6.68856866,  7.78593925,  8.88330984,\n",
       "         9.98068043]),\n",
       " <a list of 1 Patch objects>)"
      ]
     },
     "execution_count": 57,
     "metadata": {},
     "output_type": "execute_result"
    },
    {
     "data": {
      "image/png": "[encoded data removed]",
      "text/plain": [
       "<matplotlib.figure.Figure at 0x108dae470>"
      ]
     },
     "metadata": {},
     "output_type": "display_data"
    }
   ],
   "source": [
    "plt.hist(r, histtype='step')"
   ]
  },
  {
   "cell_type": "code",
   "execution_count": 59,
   "metadata": {
    "collapsed": false,
    "scrolled": true
   },
   "outputs": [
    {
     "data": {
      "text/plain": [
       "array([-0.99302548, -0.98761579, -0.9602745 , -0.9504779 , -0.94450209,\n",
       "       -0.93288549, -0.93129153, -0.93044691, -0.92091803, -0.91877624,\n",
       "       -0.90329292, -0.89441737, -0.88126331, -0.87417934, -0.87031556,\n",
       "       -0.8622009 , -0.86037184, -0.83505392, -0.82326597, -0.81464077,\n",
       "       -0.80345092, -0.78893974, -0.76613161, -0.75548421, -0.75131649,\n",
       "       -0.72850547, -0.64359718, -0.63908161, -0.63461537, -0.61539378,\n",
       "       -0.60177248, -0.59582897, -0.59176409, -0.58469372, -0.56681861,\n",
       "       -0.53118404, -0.52476354, -0.5193742 , -0.50592642, -0.49907395,\n",
       "       -0.49630181, -0.49432204, -0.49024554, -0.47831178, -0.47488964,\n",
       "       -0.42993944, -0.42489313, -0.41651328, -0.41219473, -0.40360417,\n",
       "       -0.40329467, -0.40243511, -0.39000204, -0.38664694, -0.36382394,\n",
       "       -0.33409915, -0.31499019, -0.31497072, -0.29898558, -0.24197389,\n",
       "       -0.23036803, -0.22842294, -0.2185465 , -0.21137609, -0.19478051,\n",
       "       -0.18556998, -0.18215362, -0.17657992, -0.17101128, -0.16853141,\n",
       "       -0.16626663, -0.14268024, -0.13080945, -0.12793159, -0.12247863,\n",
       "       -0.11618439, -0.10837897, -0.08831257, -0.08722219, -0.08215761,\n",
       "       -0.06580178, -0.05476295, -0.04859993, -0.04055641, -0.03114233,\n",
       "       -0.01040139,  0.0271867 ,  0.0346155 ,  0.04434243,  0.05863683,\n",
       "        0.05934531,  0.06010559,  0.06356934,  0.06575736,  0.07825514,\n",
       "        0.08326836,  0.08865348,  0.10069934,  0.1106506 ,  0.12850612,\n",
       "        0.13796046,  0.14642767,  0.15703395,  0.16798237,  0.18466432,\n",
       "        0.19482645,  0.20685475,  0.2091683 ,  0.22097414,  0.22434922,\n",
       "        0.22483589,  0.23070757,  0.2328387 ,  0.2328963 ,  0.24219039,\n",
       "        0.25435424,  0.25666572,  0.2741592 ,  0.29635564,  0.31366531,\n",
       "        0.3207991 ,  0.34294595,  0.35007365,  0.36613707,  0.38654263,\n",
       "        0.42036536,  0.42076139,  0.42659311,  0.43340417,  0.44594389,\n",
       "        0.46111945,  0.46794417,  0.47976155,  0.49380501,  0.4989108 ,\n",
       "        0.52177268,  0.54542165,  0.54971106,  0.57635236,  0.59819126,\n",
       "        0.60775473,  0.63903606,  0.64666217,  0.69817215,  0.73113155,\n",
       "        0.73482239,  0.7649351 ,  0.76878568,  0.78105862,  0.78647773,\n",
       "        0.78769031,  0.80093109,  0.81392291,  0.83286755,  0.84009354,\n",
       "        0.84327425,  0.85247339,  0.86321697,  0.88033215,  0.88265485,\n",
       "        0.88837148,  0.89718892,  0.91181223,  0.91857385,  0.91946216,\n",
       "        0.93578302,  0.94172204,  0.94924698,  0.98224359,  0.99657498,\n",
       "        1.00254728,  1.00583193,  1.01099652,  1.04558437,  1.07100156,\n",
       "        1.07411782,  1.07534828,  1.07640162,  1.08121212,  1.08127683,\n",
       "        1.0860841 ,  1.11689448,  1.12053658,  1.2105081 ,  1.21769802,\n",
       "        1.23093629,  1.2352844 ,  1.26092281,  1.26544522,  1.27332789,\n",
       "        1.27460466,  1.28780781,  1.28852284,  1.29811244,  1.33450294,\n",
       "        1.33548936,  1.33738745,  1.36243033,  1.36382718,  1.36816244,\n",
       "        1.37864178,  1.40691631,  1.4103135 ,  1.41317465,  1.41816859,\n",
       "        1.44910411,  1.44974081,  1.45482785,  1.45487091,  1.46236382,\n",
       "        1.46828587,  1.48195397,  1.4830075 ,  1.49493724,  1.49561246,\n",
       "        1.50658984,  1.50803798,  1.51898021,  1.52031372,  1.53877616,\n",
       "        1.53957621,  1.56169379,  1.56176626,  1.56713315,  1.56725488,\n",
       "        1.57031373,  1.57795916,  1.58519914,  1.61848347,  1.63993703,\n",
       "        1.64258133,  1.6441278 ,  1.65979307,  1.66714936,  1.67012093,\n",
       "        1.68122139,  1.68900176,  1.72354172,  1.72500105,  1.7277881 ,\n",
       "        1.74660063,  1.7478925 ,  1.77347745,  1.79684394,  1.82529071,\n",
       "        1.87544253,  1.8874441 ,  1.88898948,  1.90136955,  1.90137727,\n",
       "        1.92423732,  1.93023455,  1.93254453,  1.93381868,  1.93698218,\n",
       "        1.93857302,  1.94434109,  1.96196478,  1.96251642,  1.96663638,\n",
       "        1.96781486,  1.96871063,  1.97165793,  1.97314507,  1.99366611,\n",
       "        2.00285865,  2.01855542,  2.03506669,  2.03578982,  2.04648342,\n",
       "        2.06097929,  2.06992234,  2.07003147,  2.07498643,  2.07820517,\n",
       "        2.08358242,  2.11097901,  2.11886097,  2.11951184,  2.13762861,\n",
       "        2.14937   ,  2.1775655 ,  2.18476807,  2.18511659,  2.20481689,\n",
       "        2.21405699,  2.21480143,  2.22498873,  2.24093971,  2.2501798 ,\n",
       "        2.25496344,  2.27960297,  2.28509968,  2.30080143,  2.31722164,\n",
       "        2.3265428 ,  2.34209157,  2.38079488,  2.40931925,  2.41186993,\n",
       "        2.42135217,  2.43002329,  2.44924833,  2.4513168 ,  2.46192834,\n",
       "        2.47177654,  2.48064659,  2.48072282,  2.49466217,  2.50275824,\n",
       "        2.50614319,  2.51629533,  2.52646307,  2.53455854,  2.53648542,\n",
       "        2.53669508,  2.54745606,  2.56712292,  2.59977575,  2.60661116,\n",
       "        2.61882795,  2.63305092,  2.64358774,  2.66234795,  2.7442657 ,\n",
       "        2.75013747,  2.79942497,  2.83210515,  2.83739957,  2.85544831,\n",
       "        2.86075468,  2.86121855,  2.86289869,  2.86322309,  2.89229484,\n",
       "        2.90590677,  2.91163534,  2.92326474,  2.92511494,  2.92804672,\n",
       "        2.93997324,  2.94116476,  2.94720065,  2.96624002,  2.9939288 ,\n",
       "        2.99481643,  2.99712887,  3.00696545,  3.01824508,  3.02124157,\n",
       "        3.03335715,  3.07688402,  3.07977449,  3.09007557,  3.11182355,\n",
       "        3.11898895,  3.12523334,  3.13076983,  3.13964602,  3.14104221,\n",
       "        3.14789281,  3.15210504,  3.16372793,  3.16452898,  3.16563252,\n",
       "        3.17966105,  3.18704286,  3.19973241,  3.20211107,  3.21443839,\n",
       "        3.23377837,  3.24241696,  3.24669988,  3.24996887,  3.25460236,\n",
       "        3.2692675 ,  3.27407961,  3.2755814 ,  3.2894182 ,  3.30929982,\n",
       "        3.33026954,  3.33569983,  3.35993685,  3.36517984,  3.3664525 ,\n",
       "        3.37820456,  3.37946803,  3.379594  ,  3.38293924,  3.38344803,\n",
       "        3.39860119,  3.4033102 ,  3.40644611,  3.40780676,  3.40854883,\n",
       "        3.40988497,  3.41595605,  3.41616183,  3.41942086,  3.43282171,\n",
       "        3.43304325,  3.43612179,  3.43771893,  3.44037982,  3.478903  ,\n",
       "        3.4808821 ,  3.48134873,  3.4950097 ,  3.50969797,  3.50977555,\n",
       "        3.51689419,  3.55808219,  3.56054313,  3.56637207,  3.57036934,\n",
       "        3.59985866,  3.61395524,  3.63494484,  3.64104055,  3.67781521,\n",
       "        3.70765751,  3.73820079,  3.73890685,  3.74369413,  3.76485697,\n",
       "        3.76786032,  3.77714216,  3.77965629,  3.78226656,  3.78374364,\n",
       "        3.79583361,  3.80172158,  3.80964068,  3.81818473,  3.82456057,\n",
       "        3.83167607,  3.8405459 ,  3.85062973,  3.85109141,  3.85722256,\n",
       "        3.86268967,  3.86707031,  3.88093453,  3.88498591,  3.89676347,\n",
       "        3.89695161,  3.90062641,  3.90759241,  3.91732907,  3.91809858,\n",
       "        3.91843295,  3.93334532,  3.96534684,  3.97532705,  3.97727972,\n",
       "        3.98680749,  3.99518802,  3.99568931,  3.9967673 ,  3.99819069,\n",
       "        4.01126262,  4.01842991,  4.02871705,  4.0295221 ,  4.03006651,\n",
       "        4.03678536,  4.04437063,  4.06500976,  4.10418514,  4.10455721,\n",
       "        4.10660005,  4.11110087,  4.11504492,  4.1390256 ,  4.14060583,\n",
       "        4.15807223,  4.16357077,  4.18703546,  4.18790091,  4.19079016,\n",
       "        4.19782654,  4.2037529 ,  4.20618829,  4.20682949,  4.22196623,\n",
       "        4.24520397,  4.24899168,  4.26116805,  4.26819544,  4.27236684,\n",
       "        4.2777076 ,  4.27849923,  4.29294776,  4.29333736,  4.29446267,\n",
       "        4.30010381,  4.31433847,  4.31653174,  4.37493882,  4.37907691,\n",
       "        4.38284434,  4.38942165,  4.39982957,  4.40089832,  4.40196995,\n",
       "        4.40782448,  4.41918245,  4.41921246,  4.42060354,  4.44569947,\n",
       "        4.4705891 ,  4.478532  ,  4.48487554,  4.49335988,  4.49986905,\n",
       "        4.50116726,  4.50188148,  4.50715275,  4.51553438,  4.54090919,\n",
       "        4.54176312,  4.56130746,  4.57658898,  4.58300488,  4.58433619,\n",
       "        4.61212893,  4.6484168 ,  4.65298157,  4.65556208,  4.71122108,\n",
       "        4.71435134,  4.71628742,  4.72446679,  4.72619434,  4.72827452,\n",
       "        4.75685436,  4.75983168,  4.77451367,  4.7877414 ,  4.7932592 ,\n",
       "        4.79330405,  4.79466082,  4.80225924,  4.82066104,  4.82737205,\n",
       "        4.84064285,  4.87405855,  4.87682458,  4.87862292,  4.89801202,\n",
       "        4.90874204,  4.92971624,  4.93943032,  4.95746367,  4.96042303,\n",
       "        4.96418509,  4.97949317,  5.00429427,  5.01790888,  5.0263083 ,\n",
       "        5.02948494,  5.03142348,  5.03905564,  5.05974746,  5.0809539 ,\n",
       "        5.08140786,  5.08590667,  5.10820382,  5.11638198,  5.11934471,\n",
       "        5.1309116 ,  5.15151982,  5.15183362,  5.16071022,  5.16979866,\n",
       "        5.17950765,  5.18745475,  5.21370989,  5.21943443,  5.22142602,\n",
       "        5.22330833,  5.24417853,  5.24652016,  5.26421405,  5.28300046,\n",
       "        5.30442897,  5.36590348,  5.38890007,  5.39049744,  5.40669979,\n",
       "        5.42947444,  5.44599887,  5.47413222,  5.47628409,  5.47964832,\n",
       "        5.52048454,  5.55117336,  5.55140186,  5.55461539,  5.56761217,\n",
       "        5.56772336,  5.57510764,  5.59222983,  5.60255261,  5.62265021,\n",
       "        5.6251262 ,  5.66327222,  5.67165663,  5.67551702,  5.68020178,\n",
       "        5.68777784,  5.70611061,  5.71123242,  5.71406475,  5.71606435,\n",
       "        5.7167724 ,  5.71714628,  5.74133742,  5.75552163,  5.75900489,\n",
       "        5.75901702,  5.75987269,  5.76165913,  5.7621241 ,  5.76640733,\n",
       "        5.76650666,  5.78414961,  5.78880976,  5.7897779 ,  5.79433917,\n",
       "        5.79776106,  5.82487799,  5.82840532,  5.85695345,  5.85965459,\n",
       "        5.86976701,  5.87236359,  5.87499143,  5.92174253,  5.93582815,\n",
       "        5.95922626,  5.96409919,  5.97831934,  5.99270585,  6.00387387,\n",
       "        6.00617428,  6.02735325,  6.03407275,  6.03491933,  6.04073053,\n",
       "        6.04958675,  6.05131793,  6.05177833,  6.05352525,  6.08682484,\n",
       "        6.11258122,  6.11778407,  6.11952545,  6.12708142,  6.13225292,\n",
       "        6.14358294,  6.16403484,  6.16645624,  6.17940485,  6.18001339,\n",
       "        6.18023818,  6.18855754,  6.19491536,  6.19509139,  6.20895976,\n",
       "        6.22897334,  6.23423949,  6.23956267,  6.29365634,  6.30229683,\n",
       "        6.30242582,  6.30789518,  6.36277554,  6.36647159,  6.37113296,\n",
       "        6.38316288,  6.38806258,  6.39972202,  6.42798239,  6.43286258,\n",
       "        6.46409395,  6.47206933,  6.50454567,  6.50724964,  6.5080522 ,\n",
       "        6.53220893,  6.53837566,  6.5410563 ,  6.56644477,  6.59129313,\n",
       "        6.5962785 ,  6.60309159,  6.60641512,  6.61816523,  6.6209375 ,\n",
       "        6.64209317,  6.64246855,  6.65465582,  6.6555963 ,  6.66177035,\n",
       "        6.68782212,  6.69464116,  6.6976801 ,  6.71421595,  6.71768814,\n",
       "        6.72148452,  6.72425742,  6.72543708,  6.72820771,  6.73552621,\n",
       "        6.74468886,  6.77311125,  6.77963944,  6.78173483,  6.79516906,\n",
       "        6.79564464,  6.7978205 ,  6.81300365,  6.82313698,  6.86614477,\n",
       "        6.88126558,  6.88914172,  6.90296344,  6.90952665,  6.91583399,\n",
       "        6.92079094,  6.9413799 ,  6.99428537,  7.01193997,  7.01687803,\n",
       "        7.01969454,  7.02491808,  7.02888456,  7.04402929,  7.06018947,\n",
       "        7.06263313,  7.07741312,  7.08684413,  7.09583931,  7.10134811,\n",
       "        7.10698641,  7.11773066,  7.12766694,  7.1309009 ,  7.13378253,\n",
       "        7.15052066,  7.17169111,  7.19982758,  7.20348711,  7.20860298,\n",
       "        7.21087488,  7.22059979,  7.23440789,  7.23685396,  7.24298955,\n",
       "        7.24691467,  7.25885514,  7.28945265,  7.2986341 ,  7.30105988,\n",
       "        7.30650719,  7.32309936,  7.32784936,  7.33409428,  7.34700568,\n",
       "        7.34715856,  7.38564883,  7.3924266 ,  7.43564399,  7.44075708,\n",
       "        7.45153035,  7.45469833,  7.48833843,  7.4985198 ,  7.50697706,\n",
       "        7.51297938,  7.51814808,  7.52931985,  7.53008304,  7.53950438,\n",
       "        7.54264706,  7.54502271,  7.54906863,  7.58634178,  7.59633545,\n",
       "        7.59768725,  7.60238401,  7.60893084,  7.61420897,  7.63195233,\n",
       "        7.63272094,  7.64911965,  7.65380909,  7.66662472,  7.67095506,\n",
       "        7.68175668,  7.71142242,  7.71634537,  7.71886376,  7.72901062,\n",
       "        7.77398603,  7.78430462,  7.79074283,  7.79520159,  7.81025714,\n",
       "        7.81067754,  7.81687116,  7.82338439,  7.84132461,  7.84212571,\n",
       "        7.84676358,  7.85727838,  7.87562444,  7.8838897 ,  7.89027781,\n",
       "        7.89274851,  7.8997841 ,  7.92924733,  7.93564714,  7.93569241,\n",
       "        7.93917859,  7.96300319,  7.96520327,  8.01384587,  8.02045858,\n",
       "        8.02122143,  8.05382343,  8.06237501,  8.06418277,  8.06622413,\n",
       "        8.07714655,  8.09952065,  8.10831258,  8.11175841,  8.11359285,\n",
       "        8.12767111,  8.12810255,  8.13244375,  8.13729263,  8.14442299,\n",
       "        8.14626581,  8.15967977,  8.18638371,  8.19207641,  8.23960399,\n",
       "        8.25417199,  8.2631335 ,  8.26977139,  8.27448342,  8.28667759,\n",
       "        8.29268367,  8.30278935,  8.30618804,  8.3254671 ,  8.33927012,\n",
       "        8.35594983,  8.36076167,  8.36601487,  8.37432284,  8.38662493,\n",
       "        8.39785867,  8.41376365,  8.4236327 ,  8.42642705,  8.43836477,\n",
       "        8.44953965,  8.44984592,  8.46459355,  8.47807097,  8.49910768,\n",
       "        8.504441  ,  8.50769712,  8.52392476,  8.53798986,  8.54157672,\n",
       "        8.58011848,  8.58838577,  8.60467633,  8.63685036,  8.64451769,\n",
       "        8.6493155 ,  8.65271944,  8.65309001,  8.65955551,  8.66967407,\n",
       "        8.67590353,  8.69397108,  8.6991573 ,  8.70130835,  8.71372039,\n",
       "        8.7166161 ,  8.727886  ,  8.73062748,  8.73194627,  8.75173617,\n",
       "        8.75874406,  8.77232918,  8.80793995,  8.83772145,  8.85071009,\n",
       "        8.86250731,  8.87087518,  8.88410271,  8.90605   ,  8.91802326,\n",
       "        8.91894298,  8.92090063,  8.95159919,  8.97598753,  9.00018232,\n",
       "        9.03299192,  9.03583258,  9.0636271 ,  9.075008  ,  9.10561889,\n",
       "        9.12233661,  9.12965742,  9.13941225,  9.1410814 ,  9.14586842,\n",
       "        9.15295467,  9.15337524,  9.17052126,  9.17756084,  9.18858413,\n",
       "        9.19304371,  9.2057327 ,  9.20650682,  9.21298403,  9.21723901,\n",
       "        9.22810619,  9.24033569,  9.25808615,  9.28542748,  9.29304549,\n",
       "        9.29808327,  9.2995773 ,  9.3107325 ,  9.31586744,  9.33273332,\n",
       "        9.34376584,  9.3584737 ,  9.362098  ,  9.36507839,  9.37623514,\n",
       "        9.37837956,  9.39201238,  9.39248528,  9.39605497,  9.39857888,\n",
       "        9.41251534,  9.4300362 ,  9.45232435,  9.45798445,  9.46686942,\n",
       "        9.50437243,  9.50881302,  9.51142108,  9.52421792,  9.53077019,\n",
       "        9.54555577,  9.56853476,  9.58270109,  9.60222784,  9.63693751,\n",
       "        9.64546635,  9.64785008,  9.65145651,  9.66724008,  9.67762271,\n",
       "        9.67937723,  9.68004931,  9.69611067,  9.69961905,  9.70007482,\n",
       "        9.70820123,  9.71527232,  9.76537662,  9.80015862,  9.81000926,\n",
       "        9.83239421,  9.83771072,  9.83891625,  9.85605404,  9.87408516,\n",
       "        9.88537438,  9.89572611,  9.89884315,  9.90431059,  9.92018414,\n",
       "        9.92758251,  9.94480244,  9.96204112,  9.97385309,  9.98068043])"
      ]
     },
     "execution_count": 59,
     "metadata": {},
     "output_type": "execute_result"
    }
   ],
   "source": [
    "r[np.argsort(r)]"
   ]
  },
  {
   "cell_type": "code",
   "execution_count": 61,
   "metadata": {
    "collapsed": false
   },
   "outputs": [
    {
     "data": {
      "text/plain": [
       "[<matplotlib.lines.Line2D at 0x1090b4208>]"
      ]
     },
     "execution_count": 61,
     "metadata": {},
     "output_type": "execute_result"
    },
    {
     "data": {
      "image/png": "[encoded data removed]",
      "text/plain": [
       "<matplotlib.figure.Figure at 0x108fc55c0>"
      ]
     },
     "metadata": {},
     "output_type": "display_data"
    }
   ],
   "source": [
    "cs = np.cumsum(r[np.argsort(r)])\n",
    "plt.plot(cs)"
   ]
  },
  {
   "cell_type": "markdown",
   "metadata": {},
   "source": [
    "  * Vectorized calculations are important for speeding up programs!"
   ]
  },
  {
   "cell_type": "markdown",
   "metadata": {},
   "source": [
    "### Drawing Integers\n",
    "  * Quite often we want to draw an integer from $[a, b]$ and not a\n",
    "real number.\n",
    "  * Python's `random` module and `numpy.random` have functions for\n",
    "drawing uniformly distributed integers:"
   ]
  },
  {
   "cell_type": "code",
   "execution_count": 64,
   "metadata": {
    "collapsed": false
   },
   "outputs": [],
   "source": [
    "(a, b) = (-1, 10)\n",
    "import random  \n",
    "r = random.randint(a, b) # a, a+1, ..., b"
   ]
  },
  {
   "cell_type": "code",
   "execution_count": 65,
   "metadata": {
    "collapsed": false
   },
   "outputs": [
    {
     "name": "stdout",
     "output_type": "stream",
     "text": [
      "2\n"
     ]
    }
   ],
   "source": [
    "print(r)"
   ]
  },
  {
   "cell_type": "code",
   "execution_count": 67,
   "metadata": {
    "collapsed": false
   },
   "outputs": [],
   "source": [
    "N = 100\n",
    "import numpy as np  \n",
    "r = np.random.randint(a, b+1, N)  # b+1 is not included  \n",
    "r = np.random.random_integers(a, b, N)  # b is included  "
   ]
  },
  {
   "cell_type": "code",
   "execution_count": 71,
   "metadata": {
    "collapsed": false
   },
   "outputs": [
    {
     "data": {
      "text/plain": [
       "5030"
      ]
     },
     "execution_count": 71,
     "metadata": {},
     "output_type": "execute_result"
    }
   ],
   "source": [
    "np.sum(np.random.random_integers(0, 1, 10000))"
   ]
  },
  {
   "cell_type": "markdown",
   "metadata": {},
   "source": [
    "### Example: Throwing a Die; Vectorized Version"
   ]
  },
  {
   "cell_type": "code",
   "execution_count": 89,
   "metadata": {
    "collapsed": false
   },
   "outputs": [
    {
     "name": "stdout",
     "output_type": "stream",
     "text": [
      "[5 6 2 3 4 3 5 6 2 2]\n",
      "[False  True False False False False False  True False False]\n",
      "[False  True False False False False False  True False False]\n",
      "Got six 2 times out of 10\n"
     ]
    }
   ],
   "source": [
    " import numpy as np  \n",
    " N = 10   \n",
    " eyes = np.random.randint(1, 6+1, N)  \n",
    "print(eyes)\n",
    "print(eyes == 6)\n",
    "success = (eyes == 6)\n",
    "print(success)\n",
    " \n",
    " # True/False array   \n",
    " success = eyes == 6   \n",
    " # treats True as 1, False as 0   \n",
    " num_six = np.sum(success)   \n",
    " print('Got six %d times out of %d' % (num_six, N)) "
   ]
  },
  {
   "cell_type": "markdown",
   "metadata": {},
   "source": [
    "  * Important: use `numpy.sum` and not the default `sum` function! (The latter is slow.)"
   ]
  },
  {
   "cell_type": "markdown",
   "metadata": {},
   "source": [
    "### Fixing the Seed Fixes the Random Sequence\n",
    "  * Debugging programs with random numbers is difficult because\n",
    "the numbers produced vary each time we run the program.\n",
    "  * For debugging it is important that a new run reproduces the\n",
    "sequence of random numbers in the last run.\n",
    "  * This is possible by fixing the seed of the random module:  \n",
    "`random.seed(121) # int argument`\n",
    "  * Or the numpy module:\n",
    "`np.random.seed(121) # int argument`\n",
    "  * The value of the seed determines the random sequence:"
   ]
  },
  {
   "cell_type": "code",
   "execution_count": 104,
   "metadata": {
    "collapsed": false
   },
   "outputs": [
    {
     "name": "stdout",
     "output_type": "stream",
     "text": [
      "None\n",
      "[ 0.4359949   0.02592623  0.54966248]\n",
      "None\n",
      "[ 0.4359949   0.02592623  0.54966248]\n"
     ]
    }
   ],
   "source": [
    "import numpy as np   \n",
    "print(np.random.seed(2))\n",
    "print(np.random.random(3))\n",
    "\n",
    "print(np.random.seed(2))\n",
    "print(np.random.random(3))"
   ]
  },
  {
   "cell_type": "markdown",
   "metadata": {},
   "source": [
    "### Distributions of Random Numbers\n",
    "  * Sometimes we want uniformly distributed random numbers,\n",
    "and sometimes not.\n",
    "  * Example: it is more likely have normal (mean) blood pressure\n",
    "than large deviations from the mean.\n",
    "  * We can use the Gaussian (or \"normal\") distribution to get random\n",
    "numbers clustered around a mean value `m` with a std deviation `s`:  "
   ]
  },
  {
   "cell_type": "code",
   "execution_count": 108,
   "metadata": {
    "collapsed": false
   },
   "outputs": [
    {
     "name": "stdout",
     "output_type": "stream",
     "text": [
      "43.20908995946115\n"
     ]
    }
   ],
   "source": [
    "m, s = 50, 15\n",
    "import random   \n",
    "r = random.normalvariate(m, s)\n",
    "print(r)"
   ]
  },
  {
   "cell_type": "markdown",
   "metadata": {},
   "source": [
    "  * Vectorized drawing of $N$ Gaussian/normal numbers:  "
   ]
  },
  {
   "cell_type": "code",
   "execution_count": 123,
   "metadata": {
    "collapsed": false
   },
   "outputs": [
    {
     "data": {
      "text/plain": [
       "(array([  7.,  13.,  24.,  11.,  28.,   9.,   4.,   2.,   1.,   1.]),\n",
       " array([  18.76022096,   28.0472378 ,   37.33425464,   46.62127148,\n",
       "          55.90828832,   65.19530516,   74.482322  ,   83.76933884,\n",
       "          93.05635568,  102.34337252,  111.63038936]),\n",
       " <a list of 1 Patch objects>)"
      ]
     },
     "execution_count": 123,
     "metadata": {},
     "output_type": "execute_result"
    },
    {
     "data": {
      "image/png": "[encoded data removed]",
      "text/plain": [
       "<matplotlib.figure.Figure at 0x109873240>"
      ]
     },
     "metadata": {},
     "output_type": "display_data"
    }
   ],
   "source": [
    "(m, s, N) = (50, 15, 100)\n",
    "import numpy as np   \n",
    "samples = np.random.normal(m, s, N) \n",
    "# print(samples)\n",
    "plt.hist(samples, histtype='step')"
   ]
  },
  {
   "cell_type": "markdown",
   "metadata": {},
   "source": [
    "### Probability via Monte Carlo Simulation\n",
    "  * What is the probability that a certain event A happens?\n",
    "    1. Simulate $N$ events\n",
    "    2. Count how many times $M$ the event $A$ happens\n",
    "    3. The probability of the event $A$ is then $M/N$ (as $N \\rightarrow \\infty$).\n",
    "  * Example: what is the probability of getting 6 on two or more\n",
    "dice if we throw 4 dice?  "
   ]
  },
  {
   "cell_type": "code",
   "execution_count": null,
   "metadata": {
    "collapsed": true
   },
   "outputs": [],
   "source": [
    " N = 1000 # number of experiments   \n",
    " M = 0 # number of successful events   \n",
    "\n",
    "def count_six():\n",
    "     six = 0\n",
    "     dice_1 = random.randint(1, 6)   \n",
    "     dice_2 = random.randint(1, 6)   \n",
    "     dice_3 = random.randint(1, 6)   \n",
    "     dice_4 = random.randint(1, 6)   \n",
    "\n",
    "     if dice_1 == 6: six += 1   \n",
    "     if dice_2 == 6: six += 1   \n",
    "     if dice_3 == 6: six += 1   \n",
    "     if dice_4 == 6: six += 1   \n",
    "    \n",
    "     return six"
   ]
  },
  {
   "cell_type": "code",
   "execution_count": 149,
   "metadata": {
    "collapsed": false
   },
   "outputs": [
    {
     "data": {
      "text/plain": [
       "0"
      ]
     },
     "execution_count": 149,
     "metadata": {},
     "output_type": "execute_result"
    }
   ],
   "source": [
    "count_six()"
   ]
  },
  {
   "cell_type": "code",
   "execution_count": 145,
   "metadata": {
    "collapsed": false
   },
   "outputs": [
    {
     "name": "stdout",
     "output_type": "stream",
     "text": [
      "probability of getting 6 on two or more dice out of 4 dice is:\n",
      "0.138000 based on 1000 trials\n"
     ]
    }
   ],
   "source": [
    "    \n",
    "for i in range(N):   \n",
    "     # successful event?   \n",
    "     if count_six() >= 2:   \n",
    "         M += 1 \n",
    "        \n",
    "print('probability of getting 6 on two or more dice out of 4 dice is:')\n",
    "print('%f based on %d trials' % (float(M)/N, N))"
   ]
  },
  {
   "cell_type": "markdown",
   "metadata": {},
   "source": [
    "## Random Walks"
   ]
  },
  {
   "cell_type": "markdown",
   "metadata": {},
   "source": [
    "### Random Walk in One Spatial Dimension\n",
    "  * A particle moves to the left and right with equal probability\n",
    "  * $n$ particles start at $x = 0$ at time $t = 0$ - how do the particles\n",
    "get distributed over time?\n",
    "  * This is called a random walk and constitutes a simple model for\n",
    "molecular motion in many situations:\n",
    "    - heat transport\n",
    "    - quantum mechanics\n",
    "    - polymer chains\n",
    "    - population genetics\n",
    "    - pricing of financial instruments\n",
    "    - ...\n",
    "  * We'll make a program for simulating random walk."
   ]
  },
  {
   "cell_type": "markdown",
   "metadata": {},
   "source": [
    "### Random Walk as a Difference Equation\n",
    "  * Let $x_n$ be the position of one particle at time $n$.\n",
    "  * Updating rule: $x_{n+1} = x_n + s$  \n",
    "where $s = 1$ or $s = -1$, both with probability $1/2$.\n",
    "  * For $n_p$ particles, we need $n_p$ such difference equations.\n",
    "  * Would like to calculate the statistics (mean position, \"width\" of the cluster of particles, how particles are distributed throughout space).\n",
    "  * Random walk in 2-D:\n",
    "    - $x_{n+1} = x_n + r_x$\n",
    "    - $y_{n+1} = y_n + r_y$\n",
    "    - $r_x = r \\cos\\theta$, $r_y = r \\sin\\theta$, with random $\\theta$"
   ]
  },
  {
   "cell_type": "markdown",
   "metadata": {},
   "source": [
    "### How Far After $N$ Steps (in 2-D)?\n",
    "  * Start at $(x, y) = (0, 0)$.\n",
    "  * After $N$ steps:  \n",
    "$R^2 = (\\Delta x_1 + \\cdots + \\Delta x_N)^2 + (\\Delta y_1 + \\cdots + \\Delta y_N)^2$\n",
    "  * Expand:  \n",
    "$R^2 = \\Delta x_1^2 + \\cdots + \\Delta x_N^2 + 2 \\Delta x_1 \\Delta x_2 + \\cdots  \n",
    "+ \\Delta y_1^2 + \\cdots + \\Delta y_N^2 + 2 \\Delta y_1 \\Delta y_2 + \\cdots$\n",
    "  * Cross terms average to zero:  \n",
    "$R^2 \\simeq \\Delta x_1^2 + \\cdots + \\Delta x_N^2 + \\Delta y_1^2 + \\cdots + \\Delta y_N^2$\n",
    "  * $\\Rightarrow R^2 \\simeq N \\langle r^2 \\rangle$\n",
    "  * $\\Rightarrow R \\simeq \\sqrt{N} r_{RMS}$"
   ]
  },
  {
   "cell_type": "markdown",
   "metadata": {},
   "source": [
    "## Radioactive Decay\n",
    "### Spontaneous (e.g. Radioactive) Decay\n",
    "  * \"Spontaneous\" process $\\rightarrow$ no external stimulus.\n",
    "  * Time of decay is random, independent of:\n",
    "    - How long it existed.\n",
    "    - How many other are around.\n",
    "  * Describes nuclear decay, electronic relaxation, etc.\n",
    "  * Theory: probability of decay per $\\Delta t$ per particle is:   \n",
    "$P(t)=\\lambda$ (constant)    \n",
    "$\\Rightarrow$ $N(t)$, $dN/dt$ decrease with time.  "
   ]
  },
  {
   "cell_type": "markdown",
   "metadata": {},
   "source": [
    "### Model: Continuous Decay\n",
    "  * If $N\\rightarrow \\infty$, $\\Delta t \\rightarrow 0$:  \n",
    "$\\frac{\\Delta N(t)}{\\Delta t} \\rightarrow \\frac{dN(t)}{dt} = -\\lambda N(t)$\n",
    "  * Can integrate differential equation:  \n",
    "$N(t) = N(0) e^{-\\lambda t} = N(0) e^{-t/\\tau}$  \n",
    "with $\\lambda = 1/\\tau$\n",
    "  * $\\frac{dN}{dt}(t) = -\\lambda N(0) e^{-\\lambda t} = \\frac{dN}{dt}(0) e^{-t/\\tau}$\n",
    "  * But this is an approximation!  \n",
    "Nature can have small $N$, stochastic behavior."
   ]
  },
  {
   "cell_type": "markdown",
   "metadata": {},
   "source": [
    "### Method: Decay Simulation\n",
    "  * Algorithm:  \n",
    "Loop through remaining nuclei   \n",
    "$r_i < \\lambda$? $\\Rightarrow$ decays   \n",
    "$t = t + \\Delta t$   \n",
    "Repeat loop  \n",
    "  * $r_i$ is random number in $[0, 1]$.\n",
    "  * Higher $\\lambda\\Rightarrow$ more frequent decays."
   ]
  },
  {
   "cell_type": "code",
   "execution_count": null,
   "metadata": {
    "collapsed": true
   },
   "outputs": [],
   "source": []
  }
 ],
 "metadata": {
  "kernelspec": {
   "display_name": "Python 3",
   "language": "python",
   "name": "python3"
  },
  "language_info": {
   "codemirror_mode": {
    "name": "ipython",
    "version": 3
   },
   "file_extension": ".py",
   "mimetype": "text/x-python",
   "name": "python",
   "nbconvert_exporter": "python",
   "pygments_lexer": "ipython3",
   "version": "3.4.3"
  }
 },
 "nbformat": 4,
 "nbformat_minor": 0
}
